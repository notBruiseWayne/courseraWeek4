{
 "cells": [
  {
   "cell_type": "markdown",
   "metadata": {},
   "source": [
    "<center>\n",
    "    <img src=\"https://s3-api.us-geo.objectstorage.softlayer.net/cf-courses-data/CognitiveClass/Logos/organization_logo/organization_logo.png\" width=\"300\" alt=\"cognitiveclass.ai logo\"  />\n",
    "</center>\n"
   ]
  },
  {
   "cell_type": "markdown",
   "metadata": {},
   "source": [
    "#### Add your code below following the instructions given in the course\n"
   ]
  },
  {
   "cell_type": "markdown",
   "metadata": {},
   "source": [
    "# This the notebook for data science tools graded assignment."
   ]
  },
  {
   "cell_type": "markdown",
   "metadata": {},
   "source": [
    "NAME: __TALHA SHABQDER__\n",
    "\n",
    "\n",
    "Currently Unemployed, hopefully not for Long..."
   ]
  },
  {
   "cell_type": "markdown",
   "metadata": {},
   "source": [
    "*I am interested in data science because i had some experience in programming and development including Python and C# and databases including SQL server and Oracle, the endless possibilities of data science and data driven decisions both intrigued and scared me at the same time, subsequently leading me to pursue this career*"
   ]
  },
  {
   "cell_type": "markdown",
   "metadata": {},
   "source": [
    "The following code uses the random Module and generates a set of random integers between one to six like a dice roll!"
   ]
  },
  {
   "cell_type": "code",
   "execution_count": 26,
   "metadata": {
    "tags": []
   },
   "outputs": [
    {
     "name": "stdout",
     "output_type": "stream",
     "text": [
      "Roll : 1\n",
      "FIRST DICE: 5 , SECOND DICE :6\n",
      "\n",
      "Roll : 2\n",
      "FIRST DICE: 2 , SECOND DICE :2\n",
      "\n",
      "Roll : 3\n",
      "FIRST DICE: 1 , SECOND DICE :1\n",
      "\n",
      "Roll : 4\n",
      "FIRST DICE: 5 , SECOND DICE :1\n",
      "\n",
      "Roll : 5\n",
      "FIRST DICE: 2 , SECOND DICE :4\n",
      "\n",
      "Roll : 6\n",
      "FIRST DICE: 3 , SECOND DICE :3\n",
      "\n",
      "Six dice rolls!!\n"
     ]
    }
   ],
   "source": [
    "import random\n",
    "for rolls in range(1, 7):\n",
    "    print('Roll : '+str(rolls))\n",
    "    dice1=random.randint(1,6)\n",
    "    dice2=random.randint(1,6)\n",
    "    print('FIRST DICE: '+str(dice1)+' , SECOND DICE :'+str(dice2)+'\\n')\n",
    "print('Six dice rolls!!')"
   ]
  },
  {
   "cell_type": "markdown",
   "metadata": {},
   "source": [
    "---"
   ]
  },
  {
   "cell_type": "markdown",
   "metadata": {},
   "source": [
    "The code above goes as follows:\n",
    "> The random module in imported into the script.\n",
    ">> For loop is used to iterate using range.\n",
    ">>>The code inside the foorloop is iterated for the number of times specified in range().\n",
    "\n"
   ]
  },
  {
   "cell_type": "markdown",
   "metadata": {},
   "source": [
    "---"
   ]
  },
  {
   "cell_type": "markdown",
   "metadata": {},
   "source": [
    "To learn more about random Module in python <a href=\"https://www.geeksforgeeks.org/python-random-module/\">Click Here</a>"
   ]
  },
  {
   "cell_type": "markdown",
   "metadata": {},
   "source": [
    "---"
   ]
  },
  {
   "cell_type": "markdown",
   "metadata": {},
   "source": [
    "Other Most common python modules and libraries are:\n",
    "\n",
    "- TensorFlow\n",
    "    - TensorFlow works like a computational library for writing new algorithms that involve a large number of tensor operations, since neural networks can be easily expressed as computational graphs they can be implemented using TensorFlow as a series of operations on Tensors.\n",
    "- Scikit-Learn\n",
    "    - It is a Python library is associated with NumPy and SciPy. It is considered as one of the best libraries for working with complex data.\n",
    "- Numpy\n",
    "    - Numpy is considered as one of the most popular machine learning library in Python, \n",
    "TensorFlow and other libraries uses Numpy internally for performing multiple operations on Tensors. Array interface is the best and the most important feature of Numpy.\n",
    "- Keras\n",
    "    - Keras is considered as one of the coolest machine learning libraries in Python. It provides an easier mechanism to express neural networks. Keras also provides some of the best utilities for compiling models, processing data-sets, visualization of graphs, and much more.\n",
    "- PyTorch\n",
    "    - PyTorch is the largest machine learning library that allow developers to perform tensor computations wan ith acceleration of GPU, creates dynamic computational graphs, and calculate gradients automatically.\n",
    "\n",
    "\n",
    "<a href=\"https://www.edureka.co/blog/python-libraries/\">Learn more</a> about this list of libraries."
   ]
  },
  {
   "cell_type": "code",
   "execution_count": null,
   "metadata": {},
   "outputs": [],
   "source": []
  }
 ],
 "metadata": {
  "kernelspec": {
   "display_name": "Python",
   "language": "python",
   "name": "conda-env-python-py"
  },
  "language_info": {
   "codemirror_mode": {
    "name": "ipython",
    "version": 3
   },
   "file_extension": ".py",
   "mimetype": "text/x-python",
   "name": "python",
   "nbconvert_exporter": "python",
   "pygments_lexer": "ipython3",
   "version": "3.7.12"
  }
 },
 "nbformat": 4,
 "nbformat_minor": 4
}
